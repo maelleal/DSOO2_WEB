{
  "nbformat": 4,
  "nbformat_minor": 0,
  "metadata": {
    "colab": {
      "provenance": [],
      "authorship_tag": "ABX9TyMGp/7c9DTPUzty6jARYRJq",
      "include_colab_link": true
    },
    "kernelspec": {
      "name": "python3",
      "display_name": "Python 3"
    },
    "language_info": {
      "name": "python"
    }
  },
  "cells": [
    {
      "cell_type": "markdown",
      "metadata": {
        "id": "view-in-github",
        "colab_type": "text"
      },
      "source": [
        "<a href=\"https://colab.research.google.com/github/maelleal/DSOO2_WEB/blob/master/model_collaborative_filtering.ipynb\" target=\"_parent\"><img src=\"https://colab.research.google.com/assets/colab-badge.svg\" alt=\"Open In Colab\"/></a>"
      ]
    },
    {
      "cell_type": "code",
      "execution_count": null,
      "metadata": {
        "id": "rtrvNmO-yM0T",
        "colab": {
          "base_uri": "https://localhost:8080/"
        },
        "outputId": "c078bb40-620d-4fe7-bb9e-913cddea6865"
      },
      "outputs": [
        {
          "output_type": "stream",
          "name": "stdout",
          "text": [
            "Looking in indexes: https://pypi.org/simple, https://us-python.pkg.dev/colab-wheels/public/simple/\n",
            "Requirement already satisfied: scikit-learn in /usr/local/lib/python3.7/dist-packages (1.0.2)\n",
            "Requirement already satisfied: joblib>=0.11 in /usr/local/lib/python3.7/dist-packages (from scikit-learn) (1.1.0)\n",
            "Requirement already satisfied: threadpoolctl>=2.0.0 in /usr/local/lib/python3.7/dist-packages (from scikit-learn) (3.1.0)\n",
            "Requirement already satisfied: numpy>=1.14.6 in /usr/local/lib/python3.7/dist-packages (from scikit-learn) (1.21.6)\n",
            "Requirement already satisfied: scipy>=1.1.0 in /usr/local/lib/python3.7/dist-packages (from scikit-learn) (1.7.3)\n",
            "Mounted at /content/drive\n"
          ]
        }
      ],
      "source": [
        "!pip install -U scikit-learn\n",
        "from google.colab import drive\n",
        "drive.mount('/content/drive')\n",
        "import numpy as np\n",
        "import pandas as pandas\n",
        "import matplotlib.pyplot as plt\n",
        "from sklearn.naive_bayes import GaussianNB\n",
        "from sklearn.decomposition import TruncatedSVD\n",
        "\n"
      ]
    },
    {
      "cell_type": "code",
      "source": [
        "\n",
        "dataset = pandas.read_excel('/content/drive/My Drive/TCC - Sistema recomendação INE/tabela_modelo_medias_v3.xlsx')\n",
        "dataset = dataset.replace([\"#N/A\"], 0)\n",
        "dataset_filtrado = dataset.drop(columns=['ID_UFSC', 'CURSO', 'AREA', 'ORIENTADOR', 'CLASSIF_AREA'])\n",
        "dataset_filtrado = dataset_filtrado.replace(np.nan, 0)\n",
        "dataset_filtrado = dataset_filtrado.round(2)\n",
        "dataset_filtrado.head()\n",
        "print(dataset_filtrado.dtypes)\n",
        "print(dataset_filtrado)"
      ],
      "metadata": {
        "colab": {
          "base_uri": "https://localhost:8080/"
        },
        "id": "_YiUNjX-0Svd",
        "outputId": "45db1084-5fc6-44f1-8b80-2130ffce985a"
      },
      "execution_count": null,
      "outputs": [
        {
          "output_type": "stream",
          "name": "stdout",
          "text": [
            "MATRICULA     float64\n",
            "COD_AREA      float64\n",
            "MEDIA_NOTA    float64\n",
            "Area1         float64\n",
            "Area2         float64\n",
            "Area3         float64\n",
            "Area4         float64\n",
            "Area5         float64\n",
            "Area6         float64\n",
            "Area7         float64\n",
            "Area8         float64\n",
            "Area9         float64\n",
            "Area10        float64\n",
            "Area11        float64\n",
            "Area12        float64\n",
            "Area13        float64\n",
            "dtype: object\n",
            "      MATRICULA  COD_AREA  MEDIA_NOTA  Area1  Area2  Area3  Area4  Area5  \\\n",
            "0    11103526.0      12.0         9.0   8.50   7.00   7.34   9.17   8.13   \n",
            "1    11200642.0      12.0         0.0   0.00   0.00   0.00   0.00   0.00   \n",
            "2    13202974.0       3.0        10.0   7.75   6.50   8.00   7.17   7.67   \n",
            "3     8138019.0       3.0         8.5   9.00   7.40   6.60   8.50   8.00   \n",
            "4     8138021.0       4.0         8.0   8.67   7.25   7.30   7.00   6.00   \n",
            "..          ...       ...         ...    ...    ...    ...    ...    ...   \n",
            "394   9132004.0      10.0         8.5   8.50   6.00   6.40   6.67   6.34   \n",
            "395  13200634.0      10.0         9.5   8.50   6.50   6.88   6.80   7.17   \n",
            "396  11201040.0       3.0         8.5   6.00   6.67   7.50   6.75   6.00   \n",
            "397  11201006.0       3.0         9.0   7.20   7.84   7.00   7.50   6.50   \n",
            "398  11100863.0       8.0         9.5   9.75   6.50   7.63   6.50   6.63   \n",
            "\n",
            "     Area6  Area7  Area8  Area9  Area10  Area11  Area12  Area13  \n",
            "0     8.00   7.75   7.50   8.50    6.84    7.38    7.79    7.00  \n",
            "1     0.00   0.00   0.00   0.00    0.00    0.00    0.00    0.00  \n",
            "2     8.50   7.34   8.00   9.63    7.50    8.63    7.09    8.00  \n",
            "3     7.50   7.25   8.63   8.10    7.67    6.50    7.50    0.00  \n",
            "4     6.00   7.50   8.17   7.50    7.50    6.25    7.25    0.00  \n",
            "..     ...    ...    ...    ...     ...     ...     ...     ...  \n",
            "394   7.50   6.75   6.00   9.10    6.17    6.00    7.20    6.38  \n",
            "395   8.00   6.75   6.75   9.20    7.63    7.38    6.72    7.34  \n",
            "396   6.75   9.00   8.00   7.00    6.34    6.75    0.00    0.00  \n",
            "397   6.50   7.67   6.34   7.50    7.17    7.09    0.00    0.00  \n",
            "398   8.00   7.25   7.00   9.38    7.50    6.88    7.70    8.50  \n",
            "\n",
            "[399 rows x 16 columns]\n"
          ]
        }
      ]
    },
    {
      "cell_type": "code",
      "source": [
        "# https://scikit-learn.org/stable/modules/generated/sklearn.metrics.pairwise_distances.html\n",
        "from sklearn.metrics.pairwise import pairwise_distances\n",
        "\n",
        "# Calcule DIstance Matriz\n",
        "cosine_sim = 1-pairwise_distances(dataset_filtrado, metric='minkowski')\n",
        "cosine_sim[:4, :4]"
      ],
      "metadata": {
        "colab": {
          "base_uri": "https://localhost:8080/"
        },
        "id": "nThfItgUJwQ9",
        "outputId": "1b89ce1e-a477-431a-cd71-2c0a66b7bd10"
      },
      "execution_count": null,
      "outputs": [
        {
          "output_type": "execute_result",
          "data": {
            "text/plain": [
              "array([[ 1.00000000e+00, -9.71150045e+04, -2.09944700e+06,\n",
              "        -2.96550600e+06],\n",
              "       [-9.71150045e+04,  1.00000000e+00, -2.00233100e+06,\n",
              "        -3.06262200e+06],\n",
              "       [-2.09944700e+06, -2.00233100e+06,  1.00000000e+00,\n",
              "        -5.06495400e+06],\n",
              "       [-2.96550600e+06, -3.06262200e+06, -5.06495400e+06,\n",
              "         1.00000000e+00]])"
            ]
          },
          "metadata": {},
          "execution_count": 50
        }
      ]
    },
    {
      "cell_type": "code",
      "source": [
        "# Indices dos conteúdos originais\n",
        "indices = pandas.Series(range(len(dataset_filtrado)), index=dataset_filtrado.index)\n",
        "indices\n",
        "\n",
        "# Function that get recommendations based on the cosine similarity score\n",
        "def get_recommender(idx, dataset_filtrado, top_n = 5):\n",
        "    sim_idx    = indices[idx]\n",
        "    sim_scores = list(enumerate(cosine_sim[sim_idx]))\n",
        "    sim_scores = sorted(sim_scores, key=lambda x: x[1], reverse=True)\n",
        "    sim_scores = sim_scores[1:top_n+1]\n",
        "    idx_rec    = [i[0] for i in sim_scores]\n",
        "    idx_sim    = [i[1] for i in sim_scores]\n",
        "    \n",
        "    return indices.iloc[idx_rec].index, idx_sim\n",
        "\n",
        "get_recommender(2, dataset_filtrado, top_n = 5)  "
      ],
      "metadata": {
        "colab": {
          "base_uri": "https://localhost:8080/"
        },
        "id": "_jn_DEEWDiPv",
        "outputId": "fb2f977d-0d6d-4ad6-8a28-1a8579f7bcc7"
      },
      "execution_count": null,
      "outputs": [
        {
          "output_type": "execute_result",
          "data": {
            "text/plain": [
              "(Int64Index([318, 211, 222, 121, 224], dtype='int64'),\n",
              " [0.9999999999999851,\n",
              "  0.9999999999999847,\n",
              "  0.9999999999999838,\n",
              "  0.9999999999999826,\n",
              "  0.9999999999999806])"
            ]
          },
          "metadata": {},
          "execution_count": 48
        }
      ]
    },
    {
      "cell_type": "code",
      "source": [
        "\n"
      ],
      "metadata": {
        "id": "qrgc1VRVKmvu"
      },
      "execution_count": null,
      "outputs": []
    }
  ]
}